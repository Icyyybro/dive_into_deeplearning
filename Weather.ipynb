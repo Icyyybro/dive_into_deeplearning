{
 "cells": [
  {
   "cell_type": "code",
   "execution_count": 53,
   "id": "be2e97e5",
   "metadata": {},
   "outputs": [],
   "source": [
    "import torchvision\n",
    "from torchvision.transforms import ToTensor\n",
    "from torch.utils.data import DataLoader\n",
    "import matplotlib.pyplot as plt\n",
    "import numpy as np\n",
    "import torch.nn as nn\n",
    "import torch\n",
    "import torchvision\n",
    "import os\n",
    "import shutil"
   ]
  },
  {
   "cell_type": "code",
   "execution_count": 54,
   "id": "59b72b06",
   "metadata": {},
   "outputs": [],
   "source": [
    "base_dir = r\"D:\\CODE\\jupyter notebook\\data\\weather_data\\4weather\"\n",
    "specises = ['cloudy', 'rain', 'shine', 'sunrise']"
   ]
  },
  {
   "cell_type": "code",
   "execution_count": 55,
   "id": "2b5e4819",
   "metadata": {},
   "outputs": [],
   "source": [
    "train_dir = os.path.join(base_dir, 'train')\n",
    "test_dir = os.path.join(base_dir, 'test')\n",
    "if not os.path.isdir(base_dir):\n",
    "    os.mkdir(base_dir)\n",
    "    os.mkdir(train_dir)\n",
    "    os.mkdir(test_dir)\n",
    "    for train_or_test in ['train', 'test']:\n",
    "        for specy in specises:\n",
    "            os.mkdir(os.path.join(base_dir, train_or_test, specy))"
   ]
  },
  {
   "cell_type": "code",
   "execution_count": 56,
   "id": "f75085b1",
   "metadata": {},
   "outputs": [],
   "source": [
    "img_dir = r\"D:\\CODE\\jupyter notebook\\data\\weather_data\\weather_data\"\n",
    "for i, img in enumerate(os.listdir(img_dir)):\n",
    "    if i%5 == 0:\n",
    "        mode = \"test\"\n",
    "    else:\n",
    "        mode = \"train\"\n",
    "    for spec in specises:\n",
    "        if spec in img:\n",
    "            s = os.path.join(img_dir, img)\n",
    "            d = os.path.join(base_dir, mode, spec, img)\n",
    "            shutil.copy(s, d)"
   ]
  },
  {
   "cell_type": "code",
   "execution_count": 57,
   "id": "72ba865b",
   "metadata": {},
   "outputs": [
    {
     "name": "stdout",
     "output_type": "stream",
     "text": [
      "train cloudy 240\n",
      "train rain 172\n",
      "train shine 202\n",
      "train sunrise 286\n",
      "test cloudy 60\n",
      "test rain 43\n",
      "test shine 51\n",
      "test sunrise 71\n"
     ]
    }
   ],
   "source": [
    "for train_or_test in ['train', 'test']:\n",
    "    for spec in specises:\n",
    "        print(train_or_test, spec, len(os.listdir(os.path.join(base_dir, train_or_test, spec))))"
   ]
  },
  {
   "cell_type": "code",
   "execution_count": 58,
   "id": "a735ff77",
   "metadata": {},
   "outputs": [],
   "source": [
    "from torchvision import transforms\n",
    "from torch.utils.data import DataLoader"
   ]
  },
  {
   "cell_type": "code",
   "execution_count": 59,
   "id": "19ed5965",
   "metadata": {},
   "outputs": [],
   "source": [
    "transforms = transforms.Compose([\n",
    "    transforms.Resize((30, 30)),\n",
    "    transforms.ToTensor(),\n",
    "    transforms.Normalize(mean=[0.5, 0.5, 0.5], std=[0.5, 0.5, 0.5])\n",
    "])"
   ]
  },
  {
   "cell_type": "code",
   "execution_count": 60,
   "id": "5874b607",
   "metadata": {},
   "outputs": [],
   "source": [
    "train_dataset = torchvision.datasets.ImageFolder(train_dir, transforms)\n",
    "test_dataset = torchvision.datasets.ImageFolder(test_dir, transforms)\n",
    "train_dataloader = DataLoader(train_dataset, batch_size=64, shuffle=True)\n",
    "test_dataloader = DataLoader(test_dataset, batch_size=64, shuffle=False)"
   ]
  },
  {
   "cell_type": "code",
   "execution_count": 61,
   "id": "5b8dbc8a",
   "metadata": {},
   "outputs": [
    {
     "data": {
      "text/plain": [
       "torch.Size([64, 3, 30, 30])"
      ]
     },
     "execution_count": 61,
     "metadata": {},
     "output_type": "execute_result"
    }
   ],
   "source": [
    "imgs, labels = next(iter(train_dataloader))\n",
    "imgs.size()"
   ]
  },
  {
   "cell_type": "code",
   "execution_count": 62,
   "id": "2d62cc95",
   "metadata": {},
   "outputs": [],
   "source": [
    "class Model(nn.Module):\n",
    "    def __init__(self):\n",
    "        super().__init__()\n",
    "        self.conv_1 = nn.Conv2d(3, 18, kernel_size=5, padding=2)\n",
    "        self.conv_2 = nn.Conv2d(18, 36, kernel_size=5)\n",
    "        self.avgpool_1 = nn.AvgPool2d(kernel_size=2, stride=2)\n",
    "        self.avgpool_2 = nn.AvgPool2d(kernel_size=2, stride=2)\n",
    "        self.sigmoid = nn.Sigmoid()\n",
    "        self.linear_1 = nn.Linear(900, 128)\n",
    "        self.linear_2 = nn.Linear(128, 64)\n",
    "        self.linear_3 = nn.Linear(64, 4)\n",
    "        self.flatten = nn.Flatten()\n",
    "        self.relu = nn.ReLU()\n",
    "    def forward(self, input):\n",
    "        x = self.conv_1(input)\n",
    "        x = self.sigmoid(x)\n",
    "        x = self.avgpool_1(x)\n",
    "        x = self.conv_2(x)\n",
    "        x = self.sigmoid(x)\n",
    "        x = self.avgpool_2(x)\n",
    "        x = self.flatten(x)\n",
    "        x = x.view(-1, 900)\n",
    "        x = self.linear_1(x)\n",
    "        x = self.relu(x)\n",
    "        x = self.linear_2(x)\n",
    "        x = self.relu(x)\n",
    "        output = self.linear_3(x)\n",
    "        return output"
   ]
  },
  {
   "cell_type": "code",
   "execution_count": null,
   "id": "3afe0aa8",
   "metadata": {},
   "outputs": [],
   "source": []
  },
  {
   "cell_type": "code",
   "execution_count": 63,
   "id": "63e812b4",
   "metadata": {},
   "outputs": [],
   "source": [
    "device = 'cpu'\n",
    "if torch.cuda.is_available():\n",
    "    device = 'cuda'\n",
    "model = Model().to(device)\n",
    "loss_fn = nn.CrossEntropyLoss()\n",
    "opt = torch.optim.SGD(model.parameters(), lr=0.01)"
   ]
  },
  {
   "cell_type": "code",
   "execution_count": 64,
   "id": "80857106",
   "metadata": {},
   "outputs": [],
   "source": [
    "def train(dataloader, model, loss_fn, opt, device):\n",
    "    train_loss, train_correct = 0, 0\n",
    "    size = len(dataloader.dataset)\n",
    "    num_batch = len(dataloader)\n",
    "    for x, y in dataloader:\n",
    "        x = x.to(device)\n",
    "        y = y.to(device)\n",
    "        y_pred = model(x)\n",
    "        loss = loss_fn(y_pred, y)\n",
    "        opt.zero_grad()\n",
    "        loss.backward()\n",
    "        opt.step()\n",
    "        with torch.no_grad():\n",
    "            train_loss += loss\n",
    "            train_correct += (y_pred.argmax(1)==y).type(torch.int32)\n",
    "    train_loss /= num_batch\n",
    "    train_correct /= size\n",
    "    return train_correct, train_loss\n",
    "\n",
    "def test(dataloader, model, loss_fn, device):\n",
    "    test_loss, test_correct = 0, 0\n",
    "    size = len(dataloader.dataset)\n",
    "    num_batch = len(dataloader)\n",
    "    for x, y in dataloader:\n",
    "        x = x.to(device)\n",
    "        y = y.to(device)\n",
    "        y_pred = model(x)\n",
    "        loss = loss_fn(y_pred, y)\n",
    "        test_loss += loss\n",
    "        test_correct += (y_pred.argmax(1)==y).type(torch.int32)\n",
    "    test_loss /= num_batch\n",
    "    test_correct /= size\n",
    "    return test_correct, test_loss"
   ]
  },
  {
   "cell_type": "code",
   "execution_count": 65,
   "id": "bcba0b0c",
   "metadata": {},
   "outputs": [
    {
     "ename": "RuntimeError",
     "evalue": "The size of tensor a (64) must match the size of tensor b (4) at non-singleton dimension 0",
     "output_type": "error",
     "traceback": [
      "\u001b[1;31m---------------------------------------------------------------------------\u001b[0m",
      "\u001b[1;31mRuntimeError\u001b[0m                              Traceback (most recent call last)",
      "Cell \u001b[1;32mIn[65], line 7\u001b[0m\n\u001b[0;32m      5\u001b[0m test_correct \u001b[38;5;241m=\u001b[39m []\n\u001b[0;32m      6\u001b[0m \u001b[38;5;28;01mfor\u001b[39;00m epoch \u001b[38;5;129;01min\u001b[39;00m \u001b[38;5;28mrange\u001b[39m(epoches):\n\u001b[1;32m----> 7\u001b[0m     epoch_train_correct, epoch_train_loss \u001b[38;5;241m=\u001b[39m \u001b[43mtrain\u001b[49m\u001b[43m(\u001b[49m\u001b[43mtrain_dataloader\u001b[49m\u001b[43m,\u001b[49m\u001b[43m \u001b[49m\u001b[43mmodel\u001b[49m\u001b[43m,\u001b[49m\u001b[43m \u001b[49m\u001b[43mloss_fn\u001b[49m\u001b[43m,\u001b[49m\u001b[43m \u001b[49m\u001b[43mopt\u001b[49m\u001b[43m,\u001b[49m\u001b[43m \u001b[49m\u001b[43mdevice\u001b[49m\u001b[43m)\u001b[49m\n\u001b[0;32m      8\u001b[0m     epoch_test_correct, epoch_test_loss \u001b[38;5;241m=\u001b[39m test(test_dataloader, model, loss_fn, device)\n\u001b[0;32m      9\u001b[0m     train_loss\u001b[38;5;241m.\u001b[39mappend(epoch_train_loss)\n",
      "Cell \u001b[1;32mIn[64], line 15\u001b[0m, in \u001b[0;36mtrain\u001b[1;34m(dataloader, model, loss_fn, opt, device)\u001b[0m\n\u001b[0;32m     13\u001b[0m     \u001b[38;5;28;01mwith\u001b[39;00m torch\u001b[38;5;241m.\u001b[39mno_grad():\n\u001b[0;32m     14\u001b[0m         train_loss \u001b[38;5;241m+\u001b[39m\u001b[38;5;241m=\u001b[39m loss\n\u001b[1;32m---> 15\u001b[0m         train_correct \u001b[38;5;241m+\u001b[39m\u001b[38;5;241m=\u001b[39m (y_pred\u001b[38;5;241m.\u001b[39margmax(\u001b[38;5;241m1\u001b[39m)\u001b[38;5;241m==\u001b[39my)\u001b[38;5;241m.\u001b[39mtype(torch\u001b[38;5;241m.\u001b[39mint32)\n\u001b[0;32m     16\u001b[0m train_loss \u001b[38;5;241m/\u001b[39m\u001b[38;5;241m=\u001b[39m num_batch\n\u001b[0;32m     17\u001b[0m train_correct \u001b[38;5;241m/\u001b[39m\u001b[38;5;241m=\u001b[39m size\n",
      "\u001b[1;31mRuntimeError\u001b[0m: The size of tensor a (64) must match the size of tensor b (4) at non-singleton dimension 0"
     ]
    }
   ],
   "source": [
    "epoches = 100\n",
    "train_loss = []\n",
    "train_correct = []\n",
    "test_loss = []\n",
    "test_correct = []\n",
    "for epoch in range(epoches):\n",
    "    epoch_train_correct, epoch_train_loss = train(train_dataloader, model, loss_fn, opt, device)\n",
    "    epoch_test_correct, epoch_test_loss = test(test_dataloader, model, loss_fn, device)\n",
    "    train_loss.append(epoch_train_loss)\n",
    "    train_correct.append(epoch_train_correct)\n",
    "    test_loss.append(epoch_test_loss)\n",
    "    test_correct.append(epoch_test_correct)\n",
    "    template = (\"epoch:{:2d}, train_loss:{:.5f}, train_correct:{:.2f}%, test_loss:{:.5f}, test_correct:{:.2f}%\")\n",
    "    print(template.format(epoch, epoch_train_loss, epoch_train_correct*100, epoch_test_loss, epoch_test_correct*100))"
   ]
  }
 ],
 "metadata": {
  "kernelspec": {
   "display_name": "Python 3 (ipykernel)",
   "language": "python",
   "name": "python3"
  },
  "language_info": {
   "codemirror_mode": {
    "name": "ipython",
    "version": 3
   },
   "file_extension": ".py",
   "mimetype": "text/x-python",
   "name": "python",
   "nbconvert_exporter": "python",
   "pygments_lexer": "ipython3",
   "version": "3.8.18"
  }
 },
 "nbformat": 4,
 "nbformat_minor": 5
}
