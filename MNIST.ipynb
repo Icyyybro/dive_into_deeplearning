{
 "cells": [
  {
   "cell_type": "code",
   "execution_count": 66,
   "id": "ff2dcef6",
   "metadata": {},
   "outputs": [],
   "source": [
    "import torchvision\n",
    "from torchvision.transforms import ToTensor\n",
    "from torch.utils.data import DataLoader\n",
    "import matplotlib.pyplot as plt\n",
    "import numpy as np\n",
    "import torch.nn as nn\n",
    "import torch"
   ]
  },
  {
   "cell_type": "code",
   "execution_count": 67,
   "id": "8c7fee71",
   "metadata": {},
   "outputs": [
    {
     "data": {
      "text/plain": [
       "Dataset MNIST\n",
       "    Number of datapoints: 60000\n",
       "    Root location: data\n",
       "    Split: Train\n",
       "    StandardTransform\n",
       "Transform: ToTensor()"
      ]
     },
     "execution_count": 67,
     "metadata": {},
     "output_type": "execute_result"
    }
   ],
   "source": [
    "torchvision.datasets.MNIST('data', train=True, transform=ToTensor(), download=True)"
   ]
  },
  {
   "cell_type": "code",
   "execution_count": 68,
   "id": "c085c45f",
   "metadata": {},
   "outputs": [],
   "source": [
    "train_dataset = torchvision.datasets.MNIST('data', train=True, transform=ToTensor(), download=True)\n",
    "test_dataset = torchvision.datasets.MNIST('data', train=False, transform=ToTensor(),download=True)"
   ]
  },
  {
   "cell_type": "code",
   "execution_count": 69,
   "id": "eadcfbf8",
   "metadata": {},
   "outputs": [],
   "source": [
    "train_dataloader = DataLoader(train_dataset, batch_size=64, shuffle=True)\n",
    "test_dataloader = DataLoader(test_dataset, batch_size=64, shuffle=False)"
   ]
  },
  {
   "cell_type": "code",
   "execution_count": 70,
   "id": "c5dc5953",
   "metadata": {},
   "outputs": [],
   "source": [
    "imgs, label = next(iter(train_dataloader))"
   ]
  },
  {
   "cell_type": "code",
   "execution_count": 71,
   "id": "b0f9cb93",
   "metadata": {
    "scrolled": true
   },
   "outputs": [
    {
     "data": {
      "text/plain": [
       "torch.Size([64, 1, 28, 28])"
      ]
     },
     "execution_count": 71,
     "metadata": {},
     "output_type": "execute_result"
    }
   ],
   "source": [
    "imgs.shape"
   ]
  },
  {
   "cell_type": "markdown",
   "id": "94b6d700",
   "metadata": {},
   "source": [
    "# 创建模型"
   ]
  },
  {
   "cell_type": "code",
   "execution_count": 72,
   "id": "6981332d",
   "metadata": {},
   "outputs": [],
   "source": [
    "model = nn.Sequential(\n",
    "    nn.Conv2d(1, 6, kernel_size=5, padding=2), nn.Sigmoid(),\n",
    "    nn.AvgPool2d(kernel_size=2, stride=2),\n",
    "    nn.Conv2d(6, 16, kernel_size=5), nn.Sigmoid(),\n",
    "    nn.AvgPool2d(kernel_size=2, stride=2),\n",
    "    nn.Flatten(),\n",
    "    nn.Linear(16 * 5 * 5, 120), nn.Sigmoid(),\n",
    "    nn.Linear(120, 84), nn.Sigmoid(),\n",
    "    nn.Linear(84, 10))"
   ]
  },
  {
   "cell_type": "code",
   "execution_count": 73,
   "id": "86f57783",
   "metadata": {},
   "outputs": [],
   "source": [
    "device = 'cuda' if torch.cuda.is_available() else 'cpu'\n",
    "model = Model().to(device)\n",
    "loss_fn = nn.CrossEntropyLoss()\n",
    "opt = torch.optim.SGD(model.parameters(), lr=0.001)"
   ]
  },
  {
   "cell_type": "markdown",
   "id": "47b724b9",
   "metadata": {},
   "source": [
    "# 训练函数"
   ]
  },
  {
   "cell_type": "code",
   "execution_count": 74,
   "id": "950eef1a",
   "metadata": {},
   "outputs": [],
   "source": [
    "def train(dataloader, Model, loss_fn, optimizer):\n",
    "    size = len(dataloader.dataset)\n",
    "    num_batch = len(dataloader)\n",
    "    train_loss, train_correct = 0, 0\n",
    "    for x, y in dataloader:\n",
    "        x, y = x.to(device), y.to(device)\n",
    "        y_pred = model(x)\n",
    "        loss = loss_fn(y_pred, y)\n",
    "        optimizer.zero_grad()\n",
    "        loss.backward()\n",
    "        optimizer.step()\n",
    "        with torch.no_grad():\n",
    "            train_correct += (y_pred.argmax(1) == y).type(torch.float).sum().item()\n",
    "            train_loss += loss.item()\n",
    "    train_correct /= size\n",
    "    train_loss /= num_batch\n",
    "    return train_correct, train_loss"
   ]
  },
  {
   "cell_type": "markdown",
   "id": "72b3d205",
   "metadata": {},
   "source": [
    "# 测试函数"
   ]
  },
  {
   "cell_type": "code",
   "execution_count": 75,
   "id": "465d4989",
   "metadata": {},
   "outputs": [],
   "source": [
    "def test(dataloader, Model, loss_fn):\n",
    "    size = len(dataloader.dataset)\n",
    "    num_batch = len(dataloader)\n",
    "    test_loss, test_correct = 0, 0\n",
    "    with torch.no_grad():\n",
    "        for x, y in dataloader:\n",
    "            x, y = x.to(device), y.to(device)\n",
    "            y_pred = model(x)\n",
    "            loss = loss_fn(y_pred, y)\n",
    "            test_correct += (y_pred.argmax(1) == y).type(torch.float).sum().item()\n",
    "            test_loss += loss.item()\n",
    "    test_correct /= size\n",
    "    test_loss /= num_batch\n",
    "    return test_correct, test_loss"
   ]
  },
  {
   "cell_type": "markdown",
   "id": "ba8ace93",
   "metadata": {},
   "source": [
    "# 训练与验证"
   ]
  },
  {
   "cell_type": "code",
   "execution_count": 76,
   "id": "35a5f565",
   "metadata": {
    "scrolled": true
   },
   "outputs": [
    {
     "name": "stdout",
     "output_type": "stream",
     "text": [
      "epoch: 0, train_loss:2.30084, train_correct:9.75%, test_loss:2.29824, test_correct:9.74%\n",
      "epoch: 1, train_loss:2.29612, train_correct:9.75%, test_loss:2.29346, test_correct:9.74%\n",
      "epoch: 2, train_loss:2.29093, train_correct:9.80%, test_loss:2.28748, test_correct:10.03%\n",
      "epoch: 3, train_loss:2.28368, train_correct:12.77%, test_loss:2.27824, test_correct:17.00%\n",
      "epoch: 4, train_loss:2.27161, train_correct:25.64%, test_loss:2.26206, test_correct:38.09%\n",
      "epoch: 5, train_loss:2.24872, train_correct:46.58%, test_loss:2.22875, test_correct:52.01%\n",
      "epoch: 6, train_loss:2.19483, train_correct:51.65%, test_loss:2.13975, test_correct:54.85%\n",
      "epoch: 7, train_loss:2.01333, train_correct:56.95%, test_loss:1.78465, test_correct:63.56%\n",
      "epoch: 8, train_loss:1.36089, train_correct:70.34%, test_loss:0.92251, test_correct:78.16%\n",
      "epoch: 9, train_loss:0.75384, train_correct:80.09%, test_loss:0.59116, test_correct:83.67%\n",
      "epoch:10, train_loss:0.55065, train_correct:84.31%, test_loss:0.47373, test_correct:86.60%\n",
      "epoch:11, train_loss:0.46588, train_correct:86.38%, test_loss:0.41636, test_correct:87.63%\n",
      "epoch:12, train_loss:0.41676, train_correct:87.64%, test_loss:0.38022, test_correct:88.39%\n",
      "epoch:13, train_loss:0.38182, train_correct:88.55%, test_loss:0.34770, test_correct:89.55%\n",
      "epoch:14, train_loss:0.35429, train_correct:89.31%, test_loss:0.32486, test_correct:90.06%\n",
      "epoch:15, train_loss:0.33104, train_correct:90.03%, test_loss:0.30266, test_correct:90.92%\n",
      "epoch:16, train_loss:0.31111, train_correct:90.62%, test_loss:0.28272, test_correct:91.37%\n",
      "epoch:17, train_loss:0.29355, train_correct:91.08%, test_loss:0.26593, test_correct:92.05%\n",
      "epoch:18, train_loss:0.27826, train_correct:91.67%, test_loss:0.25829, test_correct:92.19%\n",
      "epoch:19, train_loss:0.26425, train_correct:91.96%, test_loss:0.23855, test_correct:92.71%\n",
      "epoch:20, train_loss:0.25225, train_correct:92.34%, test_loss:0.22925, test_correct:92.92%\n",
      "epoch:21, train_loss:0.24070, train_correct:92.70%, test_loss:0.22785, test_correct:93.10%\n",
      "epoch:22, train_loss:0.23038, train_correct:92.95%, test_loss:0.20859, test_correct:93.69%\n",
      "epoch:23, train_loss:0.22114, train_correct:93.34%, test_loss:0.19779, test_correct:93.90%\n",
      "epoch:24, train_loss:0.21206, train_correct:93.56%, test_loss:0.19508, test_correct:94.05%\n",
      "epoch:25, train_loss:0.20408, train_correct:93.78%, test_loss:0.18730, test_correct:94.28%\n",
      "epoch:26, train_loss:0.19593, train_correct:93.96%, test_loss:0.17655, test_correct:94.69%\n",
      "epoch:27, train_loss:0.18926, train_correct:94.20%, test_loss:0.17575, test_correct:94.65%\n",
      "epoch:28, train_loss:0.18215, train_correct:94.43%, test_loss:0.16159, test_correct:95.17%\n",
      "epoch:29, train_loss:0.17625, train_correct:94.62%, test_loss:0.16428, test_correct:95.01%\n",
      "epoch:30, train_loss:0.17036, train_correct:94.81%, test_loss:0.15683, test_correct:95.17%\n",
      "epoch:31, train_loss:0.16438, train_correct:95.00%, test_loss:0.15139, test_correct:95.36%\n",
      "epoch:32, train_loss:0.15930, train_correct:95.19%, test_loss:0.14355, test_correct:95.79%\n",
      "epoch:33, train_loss:0.15412, train_correct:95.33%, test_loss:0.14298, test_correct:95.63%\n",
      "epoch:34, train_loss:0.14965, train_correct:95.48%, test_loss:0.13921, test_correct:95.81%\n",
      "epoch:35, train_loss:0.14576, train_correct:95.56%, test_loss:0.13015, test_correct:96.12%\n",
      "epoch:36, train_loss:0.14140, train_correct:95.71%, test_loss:0.12844, test_correct:96.19%\n",
      "epoch:37, train_loss:0.13747, train_correct:95.80%, test_loss:0.12374, test_correct:96.32%\n",
      "epoch:38, train_loss:0.13426, train_correct:95.88%, test_loss:0.12417, test_correct:96.28%\n",
      "epoch:39, train_loss:0.13085, train_correct:96.01%, test_loss:0.11808, test_correct:96.40%\n",
      "epoch:40, train_loss:0.12752, train_correct:96.13%, test_loss:0.12007, test_correct:96.38%\n",
      "epoch:41, train_loss:0.12429, train_correct:96.23%, test_loss:0.11797, test_correct:96.46%\n",
      "epoch:42, train_loss:0.12171, train_correct:96.31%, test_loss:0.11196, test_correct:96.57%\n",
      "epoch:43, train_loss:0.11893, train_correct:96.36%, test_loss:0.10995, test_correct:96.66%\n",
      "epoch:44, train_loss:0.11644, train_correct:96.44%, test_loss:0.11191, test_correct:96.43%\n",
      "epoch:45, train_loss:0.11348, train_correct:96.56%, test_loss:0.10288, test_correct:96.86%\n",
      "epoch:46, train_loss:0.11172, train_correct:96.61%, test_loss:0.10422, test_correct:96.87%\n",
      "epoch:47, train_loss:0.10955, train_correct:96.70%, test_loss:0.10087, test_correct:96.92%\n",
      "epoch:48, train_loss:0.10717, train_correct:96.69%, test_loss:0.09780, test_correct:96.94%\n",
      "epoch:49, train_loss:0.10581, train_correct:96.77%, test_loss:0.09769, test_correct:97.03%\n",
      "epoch:50, train_loss:0.10369, train_correct:96.83%, test_loss:0.09566, test_correct:97.04%\n",
      "epoch:51, train_loss:0.10162, train_correct:96.95%, test_loss:0.09446, test_correct:97.11%\n",
      "epoch:52, train_loss:0.10027, train_correct:96.97%, test_loss:0.09383, test_correct:97.20%\n",
      "epoch:53, train_loss:0.09830, train_correct:96.97%, test_loss:0.09449, test_correct:97.11%\n",
      "epoch:54, train_loss:0.09677, train_correct:97.09%, test_loss:0.09176, test_correct:97.05%\n",
      "epoch:55, train_loss:0.09539, train_correct:97.10%, test_loss:0.08708, test_correct:97.27%\n",
      "epoch:56, train_loss:0.09362, train_correct:97.16%, test_loss:0.08941, test_correct:97.36%\n",
      "epoch:57, train_loss:0.09235, train_correct:97.20%, test_loss:0.08660, test_correct:97.41%\n",
      "epoch:58, train_loss:0.09117, train_correct:97.21%, test_loss:0.08933, test_correct:97.30%\n",
      "epoch:59, train_loss:0.08984, train_correct:97.33%, test_loss:0.08874, test_correct:97.35%\n",
      "epoch:60, train_loss:0.08841, train_correct:97.32%, test_loss:0.08301, test_correct:97.44%\n",
      "epoch:61, train_loss:0.08729, train_correct:97.37%, test_loss:0.08413, test_correct:97.33%\n",
      "epoch:62, train_loss:0.08585, train_correct:97.38%, test_loss:0.08526, test_correct:97.48%\n",
      "epoch:63, train_loss:0.08484, train_correct:97.46%, test_loss:0.08247, test_correct:97.52%\n",
      "epoch:64, train_loss:0.08430, train_correct:97.42%, test_loss:0.08006, test_correct:97.56%\n",
      "epoch:65, train_loss:0.08260, train_correct:97.50%, test_loss:0.07746, test_correct:97.65%\n",
      "epoch:66, train_loss:0.08163, train_correct:97.56%, test_loss:0.07588, test_correct:97.71%\n",
      "epoch:67, train_loss:0.08079, train_correct:97.56%, test_loss:0.07836, test_correct:97.54%\n",
      "epoch:68, train_loss:0.07976, train_correct:97.59%, test_loss:0.07682, test_correct:97.62%\n",
      "epoch:69, train_loss:0.07863, train_correct:97.68%, test_loss:0.07651, test_correct:97.59%\n",
      "epoch:70, train_loss:0.07798, train_correct:97.64%, test_loss:0.07575, test_correct:97.63%\n",
      "epoch:71, train_loss:0.07696, train_correct:97.69%, test_loss:0.07910, test_correct:97.57%\n",
      "epoch:72, train_loss:0.07621, train_correct:97.70%, test_loss:0.07197, test_correct:97.81%\n",
      "epoch:73, train_loss:0.07534, train_correct:97.73%, test_loss:0.07064, test_correct:97.81%\n",
      "epoch:74, train_loss:0.07433, train_correct:97.77%, test_loss:0.07281, test_correct:97.76%\n",
      "epoch:75, train_loss:0.07374, train_correct:97.79%, test_loss:0.07027, test_correct:97.85%\n",
      "epoch:76, train_loss:0.07336, train_correct:97.78%, test_loss:0.07399, test_correct:97.73%\n",
      "epoch:77, train_loss:0.07229, train_correct:97.79%, test_loss:0.07147, test_correct:97.79%\n",
      "epoch:78, train_loss:0.07128, train_correct:97.86%, test_loss:0.06976, test_correct:97.78%\n",
      "epoch:79, train_loss:0.07063, train_correct:97.90%, test_loss:0.06660, test_correct:97.94%\n",
      "epoch:80, train_loss:0.07023, train_correct:97.82%, test_loss:0.06581, test_correct:97.97%\n",
      "epoch:81, train_loss:0.06914, train_correct:97.88%, test_loss:0.06824, test_correct:97.85%\n",
      "epoch:82, train_loss:0.06876, train_correct:97.93%, test_loss:0.06651, test_correct:97.91%\n",
      "epoch:83, train_loss:0.06779, train_correct:97.97%, test_loss:0.06798, test_correct:97.83%\n",
      "epoch:84, train_loss:0.06733, train_correct:97.95%, test_loss:0.06766, test_correct:98.00%\n",
      "epoch:85, train_loss:0.06663, train_correct:97.98%, test_loss:0.06946, test_correct:97.83%\n",
      "epoch:86, train_loss:0.06600, train_correct:98.00%, test_loss:0.06638, test_correct:97.92%\n",
      "epoch:87, train_loss:0.06513, train_correct:98.05%, test_loss:0.06369, test_correct:98.00%\n",
      "epoch:88, train_loss:0.06472, train_correct:98.06%, test_loss:0.06522, test_correct:97.97%\n",
      "epoch:89, train_loss:0.06398, train_correct:98.08%, test_loss:0.06468, test_correct:98.05%\n",
      "epoch:90, train_loss:0.06358, train_correct:98.08%, test_loss:0.06296, test_correct:97.99%\n"
     ]
    },
    {
     "name": "stdout",
     "output_type": "stream",
     "text": [
      "epoch:91, train_loss:0.06310, train_correct:98.11%, test_loss:0.06499, test_correct:98.03%\n",
      "epoch:92, train_loss:0.06242, train_correct:98.06%, test_loss:0.06637, test_correct:97.92%\n",
      "epoch:93, train_loss:0.06185, train_correct:98.17%, test_loss:0.06226, test_correct:98.09%\n",
      "epoch:94, train_loss:0.06171, train_correct:98.12%, test_loss:0.06144, test_correct:98.11%\n",
      "epoch:95, train_loss:0.06085, train_correct:98.17%, test_loss:0.06287, test_correct:98.10%\n",
      "epoch:96, train_loss:0.06048, train_correct:98.17%, test_loss:0.06103, test_correct:98.11%\n",
      "epoch:97, train_loss:0.05997, train_correct:98.22%, test_loss:0.06118, test_correct:98.09%\n",
      "epoch:98, train_loss:0.05936, train_correct:98.18%, test_loss:0.05994, test_correct:98.20%\n",
      "epoch:99, train_loss:0.05893, train_correct:98.25%, test_loss:0.05899, test_correct:98.23%\n"
     ]
    }
   ],
   "source": [
    "epoches = 100\n",
    "train_loss = []\n",
    "train_correct = []\n",
    "test_loss = []\n",
    "test_correct = []\n",
    "for epoch in range(epoches):\n",
    "    epoch_train_correct, epoch_train_loss = train(train_dataloader, model, loss_fn, opt)\n",
    "    epoch_test_correct, epoch_test_loss = test(test_dataloader, model, loss_fn)\n",
    "    train_loss.append(epoch_train_loss)\n",
    "    train_correct.append(epoch_train_correct)\n",
    "    test_loss.append(epoch_test_loss)\n",
    "    test_correct.append(epoch_test_correct)\n",
    "    template = (\"epoch:{:2d}, train_loss:{:.5f}, train_correct:{:.2f}%, test_loss:{:.5f}, test_correct:{:.2f}%\")\n",
    "    print(template.format(epoch, epoch_train_loss, epoch_train_correct*100, epoch_test_loss, epoch_test_correct*100))"
   ]
  },
  {
   "cell_type": "markdown",
   "id": "ad05c1a0",
   "metadata": {},
   "source": [
    "# 封装fit函数"
   ]
  },
  {
   "cell_type": "code",
   "execution_count": 77,
   "id": "13af44e5",
   "metadata": {},
   "outputs": [],
   "source": [
    "def fit(epoches, train_dataloader, test_dataloader, model, loss_fn, opt):\n",
    "    train_loss = []\n",
    "    train_correct = []\n",
    "    test_loss = []\n",
    "    test_correct = []\n",
    "    for epoch in range(epoches):\n",
    "        epoch_train_correct, epoch_train_loss = train(train_dataloader, model, loss_fn, opt)\n",
    "        epoch_test_correct, epoch_test_loss = test(test_dataloader, model, loss_fn)\n",
    "        train_loss.append(epoch_train_loss)\n",
    "        train_correct.append(epoch_train_correct)\n",
    "        test_loss.append(epoch_test_loss)\n",
    "        test_correct.append(epoch_test_correct)\n",
    "        template = (\"epoch:{:2d}, train_loss:{:.5f}, train_correct:{:.2f}%, test_loss:{:.5f}, test_correct:{:.2f}%\")\n",
    "        print(template.format(epoch, epoch_train_loss, epoch_train_correct*100, epoch_test_loss, epoch_test_correct*100))\n",
    "        return train_loss, train_correct, test_loss, test_correct"
   ]
  }
 ],
 "metadata": {
  "kernelspec": {
   "display_name": "Python 3 (ipykernel)",
   "language": "python",
   "name": "python3"
  },
  "language_info": {
   "codemirror_mode": {
    "name": "ipython",
    "version": 3
   },
   "file_extension": ".py",
   "mimetype": "text/x-python",
   "name": "python",
   "nbconvert_exporter": "python",
   "pygments_lexer": "ipython3",
   "version": "3.8.18"
  }
 },
 "nbformat": 4,
 "nbformat_minor": 5
}
