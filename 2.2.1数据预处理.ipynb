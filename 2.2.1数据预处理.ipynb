{
 "cells": [
  {
   "cell_type": "code",
   "execution_count": null,
   "id": "85db70a2",
   "metadata": {},
   "outputs": [],
   "source": [
    "import os\n",
    "# os.path.join是Python的os模块中的一个函数，用于智能地拼接路径字符串，生成一个有效的文件或目录路径。\n",
    "# 使用os.makedirs创建一个目录路径。如果目录已经存在，exist_ok=True参数会阻止抛出异常。这里创建的是位于上一级目录中的data目录。\n",
    "os.makedirs(os.path.join('..', 'data'), exist_ok=True)\n",
    "\n",
    "data_file = os.path.join"
   ]
  }
 ],
 "metadata": {
  "kernelspec": {
   "display_name": "Python 3 (ipykernel)",
   "language": "python",
   "name": "python3"
  },
  "language_info": {
   "codemirror_mode": {
    "name": "ipython",
    "version": 3
   },
   "file_extension": ".py",
   "mimetype": "text/x-python",
   "name": "python",
   "nbconvert_exporter": "python",
   "pygments_lexer": "ipython3",
   "version": "3.8.19"
  }
 },
 "nbformat": 4,
 "nbformat_minor": 5
}
