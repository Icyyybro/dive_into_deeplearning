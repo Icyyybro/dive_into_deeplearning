{
 "cells": [
  {
   "cell_type": "code",
   "execution_count": 2,
   "id": "55d67f99",
   "metadata": {},
   "outputs": [
    {
     "name": "stderr",
     "output_type": "stream",
     "text": [
      "D:\\Anaconda\\envs\\wyc_gpu\\lib\\site-packages\\numpy\\_distributor_init.py:30: UserWarning: loaded more than 1 DLL from .libs:\n",
      "D:\\Anaconda\\envs\\wyc_gpu\\lib\\site-packages\\numpy\\.libs\\libopenblas.FB5AE2TYXYH2IJRDKGDGQ3XBKLKTF43H.gfortran-win_amd64.dll\n",
      "D:\\Anaconda\\envs\\wyc_gpu\\lib\\site-packages\\numpy\\.libs\\libopenblas64__v0.3.21-gcc_10_3_0.dll\n",
      "  warnings.warn(\"loaded more than 1 DLL from .libs:\"\n"
     ]
    }
   ],
   "source": [
    "import torch\n",
    "import pandas as pd\n",
    "import numpy as np\n",
    "import matplotlib.pyplot as plt\n",
    "import torch.nn as nn"
   ]
  },
  {
   "cell_type": "code",
   "execution_count": 3,
   "id": "6931145b",
   "metadata": {},
   "outputs": [
    {
     "data": {
      "text/plain": [
       "torch.float32"
      ]
     },
     "execution_count": 3,
     "metadata": {},
     "output_type": "execute_result"
    }
   ],
   "source": [
    "t = torch.FloatTensor([1, 2, 3])\n",
    "t.dtype"
   ]
  },
  {
   "cell_type": "code",
   "execution_count": 4,
   "id": "0103058f",
   "metadata": {},
   "outputs": [
    {
     "data": {
      "text/plain": [
       "dtype('int32')"
      ]
     },
     "execution_count": 4,
     "metadata": {},
     "output_type": "execute_result"
    }
   ],
   "source": [
    "array = np.arange(12).reshape(3, 4)\n",
    "array.dtype"
   ]
  },
  {
   "cell_type": "code",
   "execution_count": 5,
   "id": "5e2b005b",
   "metadata": {},
   "outputs": [
    {
     "data": {
      "text/plain": [
       "torch.int32"
      ]
     },
     "execution_count": 5,
     "metadata": {},
     "output_type": "execute_result"
    }
   ],
   "source": [
    "torch.from_numpy(array).dtype"
   ]
  },
  {
   "cell_type": "code",
   "execution_count": 6,
   "id": "7ce41ce1",
   "metadata": {},
   "outputs": [
    {
     "data": {
      "text/plain": [
       "tensor([[0.5806, 0.2099, 0.1634],\n",
       "        [0.3693, 0.3250, 0.8557]])"
      ]
     },
     "execution_count": 6,
     "metadata": {},
     "output_type": "execute_result"
    }
   ],
   "source": [
    "# 0到1随机分布的数据\n",
    "torch.rand(2, 3)"
   ]
  },
  {
   "cell_type": "code",
   "execution_count": 7,
   "id": "1094994b",
   "metadata": {},
   "outputs": [
    {
     "data": {
      "text/plain": [
       "tensor([[-0.2840,  0.5858,  1.3702],\n",
       "        [ 0.0042, -2.0472, -0.0600]])"
      ]
     },
     "execution_count": 7,
     "metadata": {},
     "output_type": "execute_result"
    }
   ],
   "source": [
    "# 标准正态分布的随机数\n",
    "torch.randn(2, 3)"
   ]
  },
  {
   "cell_type": "code",
   "execution_count": 8,
   "id": "70df9318",
   "metadata": {},
   "outputs": [
    {
     "data": {
      "text/plain": [
       "tensor([[0., 0., 0., 0.],\n",
       "        [0., 0., 0., 0.],\n",
       "        [0., 0., 0., 0.]])"
      ]
     },
     "execution_count": 8,
     "metadata": {},
     "output_type": "execute_result"
    }
   ],
   "source": [
    "# 全0的数\n",
    "torch.zeros(3, 4)"
   ]
  },
  {
   "cell_type": "code",
   "execution_count": 9,
   "id": "5b758ac6",
   "metadata": {},
   "outputs": [
    {
     "data": {
      "text/plain": [
       "tensor([[1., 1., 1., 1.],\n",
       "        [1., 1., 1., 1.],\n",
       "        [1., 1., 1., 1.]])"
      ]
     },
     "execution_count": 9,
     "metadata": {},
     "output_type": "execute_result"
    }
   ],
   "source": [
    "# 全1的数\n",
    "torch.ones(3, 4)"
   ]
  },
  {
   "cell_type": "code",
   "execution_count": 10,
   "id": "6b24b504",
   "metadata": {},
   "outputs": [
    {
     "data": {
      "text/plain": [
       "tensor([1., 1., 1.])"
      ]
     },
     "execution_count": 10,
     "metadata": {},
     "output_type": "execute_result"
    }
   ],
   "source": [
    "# like\n",
    "torch.ones_like(t)"
   ]
  },
  {
   "cell_type": "code",
   "execution_count": 11,
   "id": "68696d63",
   "metadata": {},
   "outputs": [
    {
     "name": "stdout",
     "output_type": "stream",
     "text": [
      "2\n",
      "cpu\n",
      "tensor([[0.2051, 0.9883, 0.2558],\n",
      "        [0.1427, 0.6379, 0.3743]])\n"
     ]
    },
    {
     "data": {
      "text/plain": [
       "device(type='cuda', index=0)"
      ]
     },
     "execution_count": 11,
     "metadata": {},
     "output_type": "execute_result"
    }
   ],
   "source": [
    "# 将张量在GPU开辟空间，放到GPU上\n",
    "t = torch.rand(2,3)\n",
    "print(t.size(0))\n",
    "print(t.device)\n",
    "print(t)\n",
    "if torch.cuda.is_available():\n",
    "    t = t.to('cuda')\n",
    "t.device"
   ]
  },
  {
   "cell_type": "code",
   "execution_count": 12,
   "id": "7515c5cb",
   "metadata": {},
   "outputs": [
    {
     "data": {
      "text/plain": [
       "tensor([[0, 0, 0],\n",
       "        [0, 0, 0]], device='cuda:0', dtype=torch.int16)"
      ]
     },
     "execution_count": 12,
     "metadata": {},
     "output_type": "execute_result"
    }
   ],
   "source": [
    "# 转换类型\n",
    "t.type(torch.int16)"
   ]
  },
  {
   "cell_type": "code",
   "execution_count": 13,
   "id": "69087779",
   "metadata": {},
   "outputs": [
    {
     "data": {
      "text/plain": [
       "tensor([[0.2051, 0.9883, 0.2558],\n",
       "        [0.1427, 0.6379, 0.3743]], device='cuda:0')"
      ]
     },
     "execution_count": 13,
     "metadata": {},
     "output_type": "execute_result"
    }
   ],
   "source": [
    "# 转换类型（快捷方式）\n",
    "t.long()\n",
    "t.float()"
   ]
  },
  {
   "cell_type": "code",
   "execution_count": 14,
   "id": "5247d686",
   "metadata": {},
   "outputs": [
    {
     "name": "stdout",
     "output_type": "stream",
     "text": [
      "tensor([[0.2051, 0.9883, 0.2558],\n",
      "        [0.1427, 0.6379, 0.3743]], device='cuda:0')\n",
      "tensor([[3.2051, 3.9883, 3.2558],\n",
      "        [3.1427, 3.6379, 3.3743]], device='cuda:0')\n"
     ]
    }
   ],
   "source": [
    "# 广播原则\n",
    "print(t)\n",
    "t = t + 3\n",
    "print(t)"
   ]
  },
  {
   "cell_type": "code",
   "execution_count": 15,
   "id": "14cdaaf4",
   "metadata": {},
   "outputs": [
    {
     "data": {
      "text/plain": [
       "tensor([[ 3.6489, -2.5820],\n",
       "        [-2.5820,  2.5034]])"
      ]
     },
     "execution_count": 15,
     "metadata": {},
     "output_type": "execute_result"
    }
   ],
   "source": [
    "t = torch.randn(2, 3)\n",
    "# 求绝对值：abs\n",
    "torch.abs(t)\n",
    "# 求均值： mean\n",
    "torch.mean(t)\n",
    "# 矩阵乘法：matmul\n",
    "# 转置：T\n",
    "t.matmul(t.T)"
   ]
  },
  {
   "cell_type": "code",
   "execution_count": 19,
   "id": "5b63db5a",
   "metadata": {},
   "outputs": [
    {
     "name": "stdout",
     "output_type": "stream",
     "text": [
      "tensor([[-0.2035,  0.5076, -1.0700,  0.7374, -1.8471, -0.5425, -1.0636,  1.4705],\n",
      "        [ 1.5083,  0.4609,  0.2979,  0.0552,  0.0042, -0.0081,  1.9388,  0.3156],\n",
      "        [ 0.2222,  1.9283, -0.4621,  0.5001, -0.0286, -0.1460, -0.2228, -1.2877]])\n"
     ]
    },
    {
     "data": {
      "text/plain": [
       "tensor([[-0.2035,  0.5076],\n",
       "        [-1.0700,  0.7374],\n",
       "        [-1.8471, -0.5425],\n",
       "        [-1.0636,  1.4705],\n",
       "        [ 1.5083,  0.4609],\n",
       "        [ 0.2979,  0.0552],\n",
       "        [ 0.0042, -0.0081],\n",
       "        [ 1.9388,  0.3156],\n",
       "        [ 0.2222,  1.9283],\n",
       "        [-0.4621,  0.5001],\n",
       "        [-0.0286, -0.1460],\n",
       "        [-0.2228, -1.2877]])"
      ]
     },
     "execution_count": 19,
     "metadata": {},
     "output_type": "execute_result"
    }
   ],
   "source": [
    "t = torch.randn(3,8)\n",
    "print(t)\n",
    "t.view(-1, 2)"
   ]
  },
  {
   "cell_type": "code",
   "execution_count": 20,
   "id": "fd044de6",
   "metadata": {},
   "outputs": [
    {
     "data": {
      "text/plain": [
       "tensor([[-1.0040, -0.9768,  0.9697,  ...,  1.1848,  1.2104, -1.6980],\n",
       "        [-0.0065,  0.3427, -0.7105,  ...,  1.0642,  0.3624, -1.0172],\n",
       "        [ 0.5927, -0.1148,  0.8907,  ...,  1.3223,  1.4606, -1.1313],\n",
       "        ...,\n",
       "        [-1.9458, -2.1196,  0.1240,  ...,  1.9749,  0.6566,  0.5997],\n",
       "        [-2.7971,  0.3799,  1.7193,  ...,  0.9823,  1.6000, -0.6389],\n",
       "        [ 0.3340,  0.1246, -0.7388,  ...,  0.7414,  0.7832, -1.0897]])"
      ]
     },
     "execution_count": 20,
     "metadata": {},
     "output_type": "execute_result"
    }
   ],
   "source": [
    "t = torch.randn(12, 3, 19, 19)\n",
    "t.view(12, -1)"
   ]
  },
  {
   "cell_type": "code",
   "execution_count": 32,
   "id": "32970ddd",
   "metadata": {},
   "outputs": [
    {
     "name": "stdout",
     "output_type": "stream",
     "text": [
      "torch.Size([1, 12, 19, 19])\n",
      "torch.Size([12, 19, 19])\n"
     ]
    }
   ],
   "source": [
    "t = torch.randn(1,12,19,19)\n",
    "print(t.shape)\n",
    "t = t.squeeze()\n",
    "print(t.shape)"
   ]
  },
  {
   "cell_type": "code",
   "execution_count": 41,
   "id": "3c6534d3",
   "metadata": {},
   "outputs": [
    {
     "name": "stdout",
     "output_type": "stream",
     "text": [
      "tensor([[-1.4213, -0.0466,  1.1939,  2.0524],\n",
      "        [ 0.7011,  0.4126, -1.1774, -0.3041],\n",
      "        [ 0.8673, -0.0593,  0.1382, -0.6432]], requires_grad=True)\n",
      "tensor([[3.5787, 4.9534, 6.1939, 7.0524],\n",
      "        [5.7011, 5.4126, 3.8226, 4.6959],\n",
      "        [5.8673, 4.9407, 5.1382, 4.3568]], grad_fn=<AddBackward0>)\n",
      "<AddBackward0 object at 0x0000022C45B1BEE0>\n",
      "tensor([[ 7.1573,  9.9069, 12.3878, 14.1047],\n",
      "        [11.4021, 10.8251,  7.6452,  9.3919],\n",
      "        [11.7346,  9.8814, 10.2764,  8.7135]], grad_fn=<MulBackward0>)\n",
      "<MulBackward0 object at 0x0000022C45B1BEE0>\n",
      "tensor(10.2856, grad_fn=<MeanBackward0>)\n",
      "<MeanBackward0 object at 0x0000022C45B1BEE0>\n"
     ]
    },
    {
     "data": {
      "text/plain": [
       "tensor([[0.1667, 0.1667, 0.1667, 0.1667],\n",
       "        [0.1667, 0.1667, 0.1667, 0.1667],\n",
       "        [0.1667, 0.1667, 0.1667, 0.1667]])"
      ]
     },
     "execution_count": 41,
     "metadata": {},
     "output_type": "execute_result"
    }
   ],
   "source": [
    "# 自动微分（grad）\n",
    "t = torch.randn(3, 4, requires_grad=True)\n",
    "t.requires_grad\n",
    "y = t + 5\n",
    "z = y * 2\n",
    "final = z.mean()\n",
    "print(t)\n",
    "print(y)\n",
    "print(y.grad_fn)\n",
    "print(z)\n",
    "print(z.grad_fn)\n",
    "print(final)\n",
    "print(final.grad_fn)\n",
    "final.backward()\n",
    "# 求t的梯度， d(final)/d(t)\n",
    "t.grad"
   ]
  },
  {
   "cell_type": "code",
   "execution_count": 42,
   "id": "f9cb42af",
   "metadata": {},
   "outputs": [
    {
     "name": "stdout",
     "output_type": "stream",
     "text": [
      "False\n"
     ]
    }
   ],
   "source": [
    "# 不跟踪梯度：\n",
    "with torch.no_grad():\n",
    "    y = t + 2\n",
    "    print(y.requires_grad)"
   ]
  },
  {
   "cell_type": "code",
   "execution_count": 44,
   "id": "8e33a2cc",
   "metadata": {},
   "outputs": [
    {
     "name": "stdout",
     "output_type": "stream",
     "text": [
      "y: tensor(16., grad_fn=<AddBackward0>)\n",
      "y_detached: tensor(16.)\n"
     ]
    }
   ],
   "source": [
    "# 不跟踪梯度：\n",
    "x = torch.tensor(3.0, requires_grad=True)\n",
    "y = x ** 2 + 2 * x + 1\n",
    "y_detached = y.detach()\n",
    "print(\"y:\", y) \n",
    "print(\"y_detached:\", y_detached) "
   ]
  }
 ],
 "metadata": {
  "kernelspec": {
   "display_name": "Python 3 (ipykernel)",
   "language": "python",
   "name": "python3"
  },
  "language_info": {
   "codemirror_mode": {
    "name": "ipython",
    "version": 3
   },
   "file_extension": ".py",
   "mimetype": "text/x-python",
   "name": "python",
   "nbconvert_exporter": "python",
   "pygments_lexer": "ipython3",
   "version": "3.8.16"
  }
 },
 "nbformat": 4,
 "nbformat_minor": 5
}
