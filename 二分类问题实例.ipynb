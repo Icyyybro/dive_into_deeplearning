{
 "cells": [
  {
   "cell_type": "code",
   "execution_count": 2,
   "id": "3be9aa57",
   "metadata": {},
   "outputs": [],
   "source": [
    "import torch\n",
    "import pandas as pd\n",
    "import numpy as np\n",
    "import matplotlib.pyplot as plt\n",
    "import torch.nn as nn"
   ]
  },
  {
   "cell_type": "code",
   "execution_count": 7,
   "id": "d80974f6",
   "metadata": {},
   "outputs": [
    {
     "name": "stdout",
     "output_type": "stream",
     "text": [
      "<class 'pandas.core.frame.DataFrame'>\n",
      "RangeIndex: 653 entries, 0 to 652\n",
      "Data columns (total 16 columns):\n",
      " #   Column  Non-Null Count  Dtype  \n",
      "---  ------  --------------  -----  \n",
      " 0   0       653 non-null    int64  \n",
      " 1   1       653 non-null    float64\n",
      " 2   2       653 non-null    float64\n",
      " 3   3       653 non-null    int64  \n",
      " 4   4       653 non-null    int64  \n",
      " 5   5       653 non-null    int64  \n",
      " 6   6       653 non-null    int64  \n",
      " 7   7       653 non-null    float64\n",
      " 8   8       653 non-null    int64  \n",
      " 9   9       653 non-null    int64  \n",
      " 10  10      653 non-null    int64  \n",
      " 11  11      653 non-null    int64  \n",
      " 12  12      653 non-null    int64  \n",
      " 13  13      653 non-null    int64  \n",
      " 14  14      653 non-null    float64\n",
      " 15  15      653 non-null    int64  \n",
      "dtypes: float64(4), int64(12)\n",
      "memory usage: 81.8 KB\n"
     ]
    }
   ],
   "source": [
    "data = pd.read_csv(\"D:\\CODE\\jupyter notebook\\data\\(日月光华)PyTorch深度学习教程课件\\(日月光华)PyTorch深度学习教程课件\\daatset\\credit-a.csv\", header=None)\n",
    "data.info()"
   ]
  },
  {
   "cell_type": "code",
   "execution_count": 11,
   "id": "46e3a5fc",
   "metadata": {},
   "outputs": [
    {
     "data": {
      "text/plain": [
       "torch.Size([653, 1])"
      ]
     },
     "execution_count": 11,
     "metadata": {},
     "output_type": "execute_result"
    }
   ],
   "source": [
    "X = data.iloc[:, :-1]\n",
    "Y = data.iloc[:, -1].replace(-1, 0)\n",
    "X = torch.from_numpy(X.values).type(torch.float32)\n",
    "Y = torch.from_numpy(Y.values).type(torch.float32).reshape(-1, 1)\n",
    "Y.shape"
   ]
  },
  {
   "cell_type": "code",
   "execution_count": 13,
   "id": "e2892a8c",
   "metadata": {},
   "outputs": [],
   "source": [
    "model = nn.Sequential(\n",
    "    nn.Linear(15, 1),\n",
    "    nn.Sigmoid()\n",
    ")\n",
    "loss_fn = nn.BCELoss()\n",
    "opt = torch.optim.Adam(model.parameters(), lr=0.0001)\n",
    "batch_size = 16\n",
    "num_batch = X.size(0)//batch_size\n",
    "epoches = 5000"
   ]
  },
  {
   "cell_type": "code",
   "execution_count": 15,
   "id": "366f5d25",
   "metadata": {},
   "outputs": [
    {
     "name": "stdout",
     "output_type": "stream",
     "text": [
      "tensor(0.0669, grad_fn=<BinaryCrossEntropyBackward0>)\n",
      "<bound method Module.named_parameters of Sequential(\n",
      "  (0): Linear(in_features=15, out_features=1, bias=True)\n",
      "  (1): Sigmoid()\n",
      ")>\n"
     ]
    }
   ],
   "source": [
    "for epoch in range(epoches):\n",
    "    for i in range(num_batch):\n",
    "        start = i * batch_size\n",
    "        end = start + batch_size\n",
    "        x = X[start: end]\n",
    "        y = Y[start: end]\n",
    "        y_pred = model(x)\n",
    "        loss = loss_fn(y_pred, y)\n",
    "        opt.zero_grad()\n",
    "        loss.backward()\n",
    "        opt.step()"
   ]
  },
  {
   "cell_type": "code",
   "execution_count": 19,
   "id": "8648de0b",
   "metadata": {},
   "outputs": [
    {
     "name": "stdout",
     "output_type": "stream",
     "text": [
      "tensor(0.0669, grad_fn=<BinaryCrossEntropyBackward0>)\n",
      "[('0.weight', Parameter containing:\n",
      "tensor([[-1.7109e-01, -9.5503e-03,  8.5700e-03,  2.5711e-01,  1.3916e-01,\n",
      "         -1.2736e-02,  1.6760e-01, -1.2903e-01,  3.4149e+00,  3.0618e-01,\n",
      "         -1.5307e-01, -3.1793e-01, -7.6856e-02,  8.4107e-04, -3.4074e-04]],\n",
      "       requires_grad=True)), ('0.bias', Parameter containing:\n",
      "tensor([-0.2599], requires_grad=True))]\n"
     ]
    }
   ],
   "source": [
    "print(loss)\n",
    "print(list(model.named_parameters()))"
   ]
  },
  {
   "cell_type": "code",
   "execution_count": 20,
   "id": "73c33aed",
   "metadata": {},
   "outputs": [
    {
     "data": {
      "text/plain": [
       "OrderedDict([('0.weight',\n",
       "              tensor([[-1.7109e-01, -9.5503e-03,  8.5700e-03,  2.5711e-01,  1.3916e-01,\n",
       "                       -1.2736e-02,  1.6760e-01, -1.2903e-01,  3.4149e+00,  3.0618e-01,\n",
       "                       -1.5307e-01, -3.1793e-01, -7.6856e-02,  8.4107e-04, -3.4074e-04]])),\n",
       "             ('0.bias', tensor([-0.2599]))])"
      ]
     },
     "execution_count": 20,
     "metadata": {},
     "output_type": "execute_result"
    }
   ],
   "source": [
    "model.state_dict()"
   ]
  }
 ],
 "metadata": {
  "kernelspec": {
   "display_name": "Python 3 (ipykernel)",
   "language": "python",
   "name": "python3"
  },
  "language_info": {
   "codemirror_mode": {
    "name": "ipython",
    "version": 3
   },
   "file_extension": ".py",
   "mimetype": "text/x-python",
   "name": "python",
   "nbconvert_exporter": "python",
   "pygments_lexer": "ipython3",
   "version": "3.8.18"
  }
 },
 "nbformat": 4,
 "nbformat_minor": 5
}
