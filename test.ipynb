{
 "cells": [
  {
   "cell_type": "code",
   "execution_count": 1,
   "id": "db8183fb",
   "metadata": {},
   "outputs": [],
   "source": [
    "import torchvision\n",
    "from torchvision.transforms import ToTensor\n",
    "from torch.utils.data import DataLoader\n",
    "import matplotlib.pyplot as plt\n",
    "import numpy as np\n",
    "import torch.nn as nn\n",
    "import torch"
   ]
  },
  {
   "cell_type": "code",
   "execution_count": 2,
   "id": "869746a4",
   "metadata": {},
   "outputs": [
    {
     "name": "stdout",
     "output_type": "stream",
     "text": [
      "tensor([[[ 0.2870, -1.0968, -0.0337],\n",
      "         [ 0.4879,  2.1416, -0.4512],\n",
      "         [-1.3082, -0.2179,  0.4709],\n",
      "         [-0.8301, -1.8590,  0.1282],\n",
      "         [-1.2741,  0.4424,  0.4525]],\n",
      "\n",
      "        [[-0.2584, -1.0227, -0.2441],\n",
      "         [ 0.4758, -1.4311,  0.7692],\n",
      "         [ 1.2712, -0.1913,  1.5490],\n",
      "         [ 0.4311,  0.5243,  1.3519],\n",
      "         [ 0.0739, -0.0790, -0.2862]]])\n",
      "tensor([[[ 0.9607, -1.3791,  0.4184],\n",
      "         [-0.2223,  1.3206, -1.0984],\n",
      "         [-1.3058,  0.1827,  1.1231],\n",
      "         [ 0.0290, -1.2390,  1.2100],\n",
      "         [-1.4142,  0.7009,  0.7133]],\n",
      "\n",
      "        [[ 0.6873, -1.4140,  0.7266],\n",
      "         [ 0.5514, -1.4035,  0.8521],\n",
      "         [ 0.5173, -1.3985,  0.8812],\n",
      "         [-0.8168, -0.5914,  1.4082],\n",
      "         [ 1.1586,  0.1226, -1.2811]]], grad_fn=<NativeLayerNormBackward0>)\n"
     ]
    }
   ],
   "source": [
    "input_tensor = torch.randn(2, 5, 3)\n",
    "print(input_tensor)\n",
    "\n",
    "# 创建 LayerNorm 层\n",
    "layer_norm = nn.LayerNorm(input_tensor.size()[-1])\n",
    "\n",
    "# 进行归一化\n",
    "output_tensor = layer_norm(input_tensor)\n",
    "print(output_tensor)"
   ]
  }
 ],
 "metadata": {
  "kernelspec": {
   "display_name": "Python 3 (ipykernel)",
   "language": "python",
   "name": "python3"
  },
  "language_info": {
   "codemirror_mode": {
    "name": "ipython",
    "version": 3
   },
   "file_extension": ".py",
   "mimetype": "text/x-python",
   "name": "python",
   "nbconvert_exporter": "python",
   "pygments_lexer": "ipython3",
   "version": "3.8.19"
  }
 },
 "nbformat": 4,
 "nbformat_minor": 5
}
